{
  "nbformat": 4,
  "nbformat_minor": 0,
  "metadata": {
    "colab": {
      "provenance": []
    },
    "kernelspec": {
      "name": "python3",
      "display_name": "Python 3"
    },
    "language_info": {
      "name": "python"
    }
  },
  "cells": [
    {
      "cell_type": "code",
      "execution_count": null,
      "metadata": {
        "id": "EQ7_C8WODQQ4"
      },
      "outputs": [],
      "source": []
    },
    {
      "cell_type": "markdown",
      "source": [
        "![image.png](data:image/png;base64,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)"
      ],
      "metadata": {
        "id": "4vOn4VXPEczi"
      }
    },
    {
      "cell_type": "code",
      "source": [
        "str= \"My age is {}\"\n",
        "print(str.format(62))"
      ],
      "metadata": {
        "colab": {
          "base_uri": "https://localhost:8080/"
        },
        "id": "IRlvbz9bEiwD",
        "outputId": "910f07a0-97a6-421f-e02a-7d48cfe2052f"
      },
      "execution_count": null,
      "outputs": [
        {
          "output_type": "stream",
          "name": "stdout",
          "text": [
            "My age is 62\n"
          ]
        }
      ]
    },
    {
      "cell_type": "code",
      "source": [
        "print(\"My age is {}\".format(62))"
      ],
      "metadata": {
        "colab": {
          "base_uri": "https://localhost:8080/"
        },
        "id": "fE7rEAVJE1g7",
        "outputId": "4115d685-2717-4167-cafc-9f97ecc782cb"
      },
      "execution_count": null,
      "outputs": [
        {
          "output_type": "stream",
          "name": "stdout",
          "text": [
            "My age is 62\n"
          ]
        }
      ]
    },
    {
      "cell_type": "code",
      "source": [
        "print(\"{}\".format(10))\n",
        "print(\"{} {}\".format(10, 20))"
      ],
      "metadata": {
        "colab": {
          "base_uri": "https://localhost:8080/"
        },
        "id": "i_SDsNNjFIkC",
        "outputId": "f11bce32-84bf-4b53-c34b-a822d54ef4eb"
      },
      "execution_count": null,
      "outputs": [
        {
          "output_type": "stream",
          "name": "stdout",
          "text": [
            "10\n",
            "10 20\n"
          ]
        }
      ]
    },
    {
      "cell_type": "markdown",
      "source": [],
      "metadata": {
        "id": "BPO21qOUFVsi"
      }
    },
    {
      "cell_type": "code",
      "source": [
        "print(\"Mobile Price{} Computer Price {}\".format(10, 20))"
      ],
      "metadata": {
        "colab": {
          "base_uri": "https://localhost:8080/"
        },
        "id": "le48ZiNnFWfg",
        "outputId": "278628b0-61fa-4e1b-d181-53f4cb321ff1"
      },
      "execution_count": null,
      "outputs": [
        {
          "output_type": "stream",
          "name": "stdout",
          "text": [
            "Mobile Price10 Computer Price 20\n"
          ]
        }
      ]
    },
    {
      "cell_type": "code",
      "source": [
        "print(\"{}\".format(15))\n",
        "print(\"{:d}\".format(15))\n",
        "print(\"{0:d}\".format(15))\n",
        "print(\"{num1:d}\".format(num1=15))\n"
      ],
      "metadata": {
        "colab": {
          "base_uri": "https://localhost:8080/"
        },
        "id": "Z-3hxCf4FtP4",
        "outputId": "cb1edec0-52d7-438e-a311-ed886a2dff29"
      },
      "execution_count": null,
      "outputs": [
        {
          "output_type": "stream",
          "name": "stdout",
          "text": [
            "15\n",
            "15\n",
            "15\n",
            "15\n"
          ]
        }
      ]
    },
    {
      "cell_type": "code",
      "source": [
        "print(\"Hello My Name is {}\".format(\"Bijender\"))\n",
        "print(\"{} {}\".format(10, \"Shows\"))\n",
        "print(\"{0} {1}\".format(10, \"Shows\"))\n",
        "print(\"{1} {0}\".format(10, \"Shows\"))\n",
        "print(\"{num1} {str1}\".format(num1=10, str1=\"Shows\"))\n",
        "print(\"{str1} {num1}\".format(num1=10, str1=\"Shows\"))\n"
      ],
      "metadata": {
        "colab": {
          "base_uri": "https://localhost:8080/"
        },
        "id": "fuZVjAzOGMoL",
        "outputId": "c7919ae7-aa52-4c27-d6a4-7fbd55e2c901"
      },
      "execution_count": null,
      "outputs": [
        {
          "output_type": "stream",
          "name": "stdout",
          "text": [
            "Hello My Name is Bijender\n",
            "10 Shows\n",
            "10 Shows\n",
            "Shows 10\n",
            "10 Shows\n",
            "Shows 10\n"
          ]
        }
      ]
    },
    {
      "cell_type": "markdown",
      "source": [
        "#Definition and Usage\n",
        "The zip() function returns a zip object, which is an iterator of tuples where the first item in each passed iterator is paired together, and then the second item in each passed iterator are paired together etc.\n",
        "\n",
        "a = (\"mk\", \"JK\", \"Rohit\")\n",
        "b = (\"MBA\", \"MSC\", \"MTech\")\n",
        "x = zip(a, b)\n",
        "#use the tuple() function to display a readable version of the result:\n",
        "print(tuple(x))\n"
      ],
      "metadata": {
        "id": "zfouWNBAyAju"
      }
    },
    {
      "cell_type": "code",
      "source": [
        "a = (\"mk\", \"JK\", \"Rohit\")\n",
        "b = (\"MBA\", \"MSC\", \"MTech\")\n",
        "x = zip(a, b)\n",
        "print(list(x))"
      ],
      "metadata": {
        "colab": {
          "base_uri": "https://localhost:8080/"
        },
        "id": "N_ZT8OiCzErE",
        "outputId": "1d5e08d9-922f-484c-ef71-ae5dbe5465c7"
      },
      "execution_count": 4,
      "outputs": [
        {
          "output_type": "stream",
          "name": "stdout",
          "text": [
            "[('mk', 'MBA'), ('JK', 'MSC'), ('Rohit', 'MTech')]\n"
          ]
        }
      ]
    },
    {
      "cell_type": "markdown",
      "source": [
        "list1 = [\"I \",\"Pursuing\",\"i\",\"BA\"]\n",
        "list2 = [\"am\", \"MBA\",  \"n\"]\n",
        "list3 = [i + j for i, j in zip(list1, list2)]\n",
        "print(list3)"
      ],
      "metadata": {
        "id": "gnz_ygVIzmOj"
      }
    },
    {
      "cell_type": "code",
      "source": [
        "list1 = [\"I \",\"Pursuing\",\"i\",\"MSC\"]\n",
        "list2 = [\"am\", \"MBA\",  \"n\",\"DSA\"]\n",
        "list3 = [i + j for i, j in zip(list1, list2)]\n",
        "print(list(list3))"
      ],
      "metadata": {
        "colab": {
          "base_uri": "https://localhost:8080/"
        },
        "id": "_SPJTU7pzleL",
        "outputId": "b2204549-0d41-4094-b66d-a49336997dc8"
      },
      "execution_count": 7,
      "outputs": [
        {
          "output_type": "stream",
          "name": "stdout",
          "text": [
            "['I am', 'PursuingMBA', 'in', 'MSCDSA']\n"
          ]
        }
      ]
    },
    {
      "cell_type": "markdown",
      "source": [],
      "metadata": {
        "id": "jtAjeNLA0_xb"
      }
    },
    {
      "cell_type": "code",
      "source": [
        "str= \"My  Class  is {}\"\n",
        "print(str.format(\"MSC(DSA)\"))"
      ],
      "metadata": {
        "colab": {
          "base_uri": "https://localhost:8080/"
        },
        "id": "8SIWwkmc1Aui",
        "outputId": "5152f997-1b83-4ac8-e1b5-20fe57f52610"
      },
      "execution_count": 12,
      "outputs": [
        {
          "output_type": "stream",
          "name": "stdout",
          "text": [
            "My  Class  is MSC(DSA)\n"
          ]
        }
      ]
    },
    {
      "cell_type": "code",
      "source": [
        "print('My', 'Name', 'Is', 'MSC(DSA)', sep='**')"
      ],
      "metadata": {
        "colab": {
          "base_uri": "https://localhost:8080/"
        },
        "id": "xv6WyxJW2Dss",
        "outputId": "c160421b-c671-431d-8520-f04e978ff991"
      },
      "execution_count": 14,
      "outputs": [
        {
          "output_type": "stream",
          "name": "stdout",
          "text": [
            "My**Name**Is**MSC(DSA)\n"
          ]
        }
      ]
    },
    {
      "cell_type": "code",
      "source": [],
      "metadata": {
        "id": "Y__6yozU2aOj"
      },
      "execution_count": null,
      "outputs": []
    },
    {
      "cell_type": "markdown",
      "source": [],
      "metadata": {
        "id": "7Sznxss9Edpk"
      }
    },
    {
      "cell_type": "code",
      "source": [
        "list1 = [10, 20, 30, 40]\n",
        "list2 = [100, 200, 300, 400]\n",
        "# list1 = [\"I \",\"Pursuing\",\"i\",\"BA\"]\n",
        "# list2 = [\"am\", \"MBA\",  \"n\"]\n",
        "\n",
        "for x, y in zip(list1, list2[::-1]):\n",
        "    print(x, y)"
      ],
      "metadata": {
        "colab": {
          "base_uri": "https://localhost:8080/"
        },
        "id": "gxHunHoQ2bGC",
        "outputId": "8741394a-5cd5-40c7-b696-ac2b22ab09a5"
      },
      "execution_count": 17,
      "outputs": [
        {
          "output_type": "stream",
          "name": "stdout",
          "text": [
            "10 400\n",
            "20 300\n",
            "30 200\n",
            "40 100\n"
          ]
        }
      ]
    }
  ]
}